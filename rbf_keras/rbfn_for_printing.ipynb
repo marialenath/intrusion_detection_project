{
 "cells": [
  {
   "cell_type": "markdown",
   "metadata": {},
   "source": [
    "**RBF-Keras: an RBF Layer for Keras Library. 2019. Available at https://github.com/PetraVidnerova/rbf_keras**"
   ]
  },
  {
   "cell_type": "markdown",
   "metadata": {},
   "source": [
    "**Initialiser.py**"
   ]
  },
  {
   "cell_type": "code",
   "execution_count": null,
   "metadata": {},
   "outputs": [],
   "source": [
    "from keras.initializers import Initializer\n",
    "import numpy as np\n",
    "\n",
    "\n",
    "class InitFromFile(Initializer):\n",
    "    \"\"\" Initialize the weights by loading from file.\n",
    "\n",
    "    # Arguments\n",
    "        filename: name of file, should by .npy file\n",
    "    \"\"\"\n",
    "    def __init__(self, filename):\n",
    "        self.filename = filename\n",
    "\n",
    "    def __call__(self, shape, dtype=None):\n",
    "        with open(self.filename, \"rb\") as f:\n",
    "            X = np.load(f)\n",
    "        assert shape == X.shape\n",
    "        return X\n",
    "\n",
    "    def get_config(self):\n",
    "        return {\n",
    "            'filename': self.filename\n",
    "        }\n"
   ]
  },
  {
   "cell_type": "markdown",
   "metadata": {},
   "source": [
    " "
   ]
  },
  {
   "cell_type": "markdown",
   "metadata": {},
   "source": [
    "**kmeans_initializer.py**"
   ]
  },
  {
   "cell_type": "code",
   "execution_count": 2,
   "metadata": {},
   "outputs": [],
   "source": [
    "from keras.initializers import Initializer\n",
    "from sklearn.cluster import KMeans\n",
    "\n",
    "\n",
    "class InitCentersKMeans(Initializer):\n",
    "    \"\"\" Initializer for initialization of centers of RBF network\n",
    "        by clustering the given data set.\n",
    "    # Arguments\n",
    "        X: matrix, dataset\n",
    "    \"\"\"\n",
    "\n",
    "    def __init__(self, X, max_iter=100):\n",
    "        self.X = X\n",
    "        self.max_iter = max_iter\n",
    "\n",
    "    def __call__(self, shape, dtype=None):\n",
    "        assert shape[1] == self.X.shape[1]\n",
    "\n",
    "        n_centers = shape[0]\n",
    "        km = KMeans(n_clusters=n_centers, max_iter=self.max_iter, verbose=0)\n",
    "        km.fit(self.X)\n",
    "        return km.cluster_centers_\n"
   ]
  },
  {
   "cell_type": "markdown",
   "metadata": {},
   "source": [
    " "
   ]
  },
  {
   "cell_type": "markdown",
   "metadata": {},
   "source": [
    "**rbflayer.py**"
   ]
  },
  {
   "cell_type": "code",
   "execution_count": null,
   "metadata": {},
   "outputs": [],
   "source": [
    "from keras import backend as K\n",
    "from keras.engine.topology import Layer\n",
    "from keras.initializers import RandomUniform, Initializer, Constant\n",
    "import numpy as np\n",
    "\n",
    "np.random.seed(112)\n",
    "\n",
    "\n",
    "class InitCentersRandom(Initializer):\n",
    "    \"\"\" Initializer for initialization of centers of RBF network\n",
    "        as random samples from the given data set.\n",
    "\n",
    "    # Arguments\n",
    "        X: matrix, dataset to choose the centers from (random rows\n",
    "          are taken as centers)\n",
    "    \"\"\"\n",
    "\n",
    "    def __init__(self, X):\n",
    "        self.X = X\n",
    "\n",
    "    def __call__(self, shape, dtype=None):\n",
    "        assert shape[1] == self.X.shape[1]\n",
    "        idx = np.random.randint(self.X.shape[0], size=shape[0])\n",
    "        return self.X[idx, :]\n",
    "\n",
    "\n",
    "class RBFLayer(Layer):\n",
    "    \"\"\" Layer of Gaussian RBF units.\n",
    "\n",
    "    # Example\n",
    "\n",
    "    ```python\n",
    "        model = Sequential()\n",
    "        model.add(RBFLayer(10,\n",
    "                           initializer=InitCentersRandom(X),\n",
    "                           betas=1.0,\n",
    "                           input_shape=(1,)))\n",
    "        model.add(Dense(1))\n",
    "    ```\n",
    "\n",
    "\n",
    "    # Arguments\n",
    "        output_dim: number of hidden units (i.e. number of outputs of the\n",
    "                    layer)\n",
    "        initializer: instance of initiliazer to initialize centers\n",
    "        betas: float, initial value for betas\n",
    "\n",
    "    \"\"\"\n",
    "\n",
    "    def __init__(self, output_dim, initializer=None, betas=1.0, **kwargs):\n",
    "        self.output_dim = output_dim\n",
    "        self.init_betas = betas\n",
    "        if not initializer:\n",
    "            self.initializer = RandomUniform(0.0, 1.0)\n",
    "        else:\n",
    "            self.initializer = initializer\n",
    "        super(RBFLayer, self).__init__(**kwargs)\n",
    "\n",
    "    def build(self, input_shape):\n",
    "\n",
    "        self.centers = self.add_weight(name='centers',\n",
    "                                       shape=(self.output_dim, input_shape[1]),\n",
    "                                       initializer=self.initializer,\n",
    "                                       trainable=True)\n",
    "        self.betas = self.add_weight(name='betas',\n",
    "                                     shape=(self.output_dim,),\n",
    "                                     initializer=Constant(\n",
    "                                         value=self.init_betas),\n",
    "                                     # initializer='ones',\n",
    "                                     trainable=True)\n",
    "\n",
    "        super(RBFLayer, self).build(input_shape)\n",
    "\n",
    "    def call(self, x):\n",
    "\n",
    "        C = K.expand_dims(self.centers)\n",
    "        H = K.transpose(C-K.transpose(x))\n",
    "        return K.exp(-self.betas * K.sum(H**2, axis=1))\n",
    "\n",
    "        # C = self.centers[np.newaxis, :, :]\n",
    "        # X = x[:, np.newaxis, :]\n",
    "\n",
    "        # diffnorm = K.sum((C-X)**2, axis=-1)\n",
    "        # ret = K.exp( - self.betas * diffnorm)\n",
    "        # return ret\n",
    "\n",
    "    def compute_output_shape(self, input_shape):\n",
    "        return (input_shape[0], self.output_dim)\n",
    "\n",
    "    def get_config(self):\n",
    "        # have to define get_config to be able to use model_from_json\n",
    "        config = {\n",
    "            'output_dim': self.output_dim\n",
    "        }\n",
    "        base_config = super(RBFLayer, self).get_config()\n",
    "        return dict(list(base_config.items()) + list(config.items()))\n"
   ]
  }
 ],
 "metadata": {
  "kernelspec": {
   "display_name": "Python 3",
   "language": "python",
   "name": "python3"
  },
  "language_info": {
   "codemirror_mode": {
    "name": "ipython",
    "version": 3
   },
   "file_extension": ".py",
   "mimetype": "text/x-python",
   "name": "python",
   "nbconvert_exporter": "python",
   "pygments_lexer": "ipython3",
   "version": "3.7.4"
  }
 },
 "nbformat": 4,
 "nbformat_minor": 2
}
